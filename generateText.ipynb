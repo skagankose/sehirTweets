{
 "cells": [
  {
   "cell_type": "markdown",
   "metadata": {},
   "source": [
    "Reset the Kernel before Running for the 2nd time."
   ]
  },
  {
   "cell_type": "code",
   "execution_count": 2,
   "metadata": {
    "collapsed": true
   },
   "outputs": [],
   "source": [
    "import tensorflow as tf\n",
    "import numpy as np\n",
    "import codecs\n",
    "import collections\n",
    "from six.moves import cPickle\n",
    "from tensorflow.contrib import rnn\n",
    "from tensorflow.contrib import legacy_seq2seq"
   ]
  },
  {
   "cell_type": "markdown",
   "metadata": {},
   "source": [
    "# TESTING"
   ]
  },
  {
   "cell_type": "markdown",
   "metadata": {},
   "source": [
    "#### ARGUMENTS"
   ]
  },
  {
   "cell_type": "code",
   "execution_count": 3,
   "metadata": {
    "collapsed": true
   },
   "outputs": [],
   "source": [
    "# Specify choosen directory from where to load the pre-trained model\n",
    "saveDirectory = \"data/model\"\n",
    "charsVocabFile = saveDirectory + \"/chars_vocab.pkl\""
   ]
  },
  {
   "cell_type": "code",
   "execution_count": 4,
   "metadata": {
    "collapsed": false
   },
   "outputs": [],
   "source": [
    "# Open saved pickle files\n",
    "with open(charsVocabFile, 'rb') as f:\n",
    "    chars, vocabMapper = cPickle.load(f)"
   ]
  },
  {
   "cell_type": "markdown",
   "metadata": {},
   "source": [
    "#### ARGUMENTS"
   ]
  },
  {
   "cell_type": "code",
   "execution_count": 5,
   "metadata": {
    "collapsed": true
   },
   "outputs": [],
   "source": [
    "# Same configuration (parameters) in training part\n",
    "layersCount = 2\n",
    "RNNSize = 128\n",
    "batchSize = 1\n",
    "sequenceLength = 1\n",
    "vocabSize = len(chars)"
   ]
  },
  {
   "cell_type": "markdown",
   "metadata": {},
   "source": [
    "### MODEL CREATION"
   ]
  },
  {
   "cell_type": "code",
   "execution_count": 6,
   "metadata": {
    "collapsed": false
   },
   "outputs": [],
   "source": [
    "cellFunction = rnn.BasicLSTMCell\n",
    "# Crete a list contains RNN cells for each layer\n",
    "cells = list()\n",
    "for _ in range(layersCount):\n",
    "    cell = cellFunction(RNNSize)\n",
    "    cells.append(cell)\n",
    "# Crate RNN cells according to created list\n",
    "cell = rnn.MultiRNNCell(cells, state_is_tuple=True)\n",
    "# Set placeholder for input and target\n",
    "inputData = tf.placeholder(tf.int32, [batchSize, sequenceLength])\n",
    "targets = tf.placeholder(tf.int32, [batchSize, sequenceLength])\n",
    "# Set initial state to all zeros\n",
    "stateInitial = cell.zero_state(batchSize, tf.float32)\n",
    "# Set rnnlm scope according to given arguments\n",
    "with tf.variable_scope('rnnlm'):\n",
    "    weights = tf.get_variable(\"weights\", [RNNSize, vocabSize])\n",
    "    biases = tf.get_variable(\"biases\", [vocabSize])\n",
    "# Create matrix for embedding and inputs \n",
    "embedding = tf.get_variable(\"embedding\", [vocabSize, RNNSize])\n",
    "inputs = tf.nn.embedding_lookup(embedding, inputData)\n",
    "inputs = tf.split(inputs, sequenceLength, 1)\n",
    "inputs = [tf.squeeze(input_, [1]) for input_ in inputs]\n",
    "# Specify the loop function that will be used for determinin outputs\n",
    "def loop(previous, _):\n",
    "    previous = tf.matmul(previous, weights) + biases\n",
    "    previousSymbol = tf.stop_gradient(tf.argmax(previous, 1))\n",
    "    return tf.nn.embedding_lookup(embedding, previousSymbol)\n",
    "outputs, lastState = legacy_seq2seq.rnn_decoder(inputs, stateInitial, cell, loop_function=loop, scope='rnnlm')\n",
    "output = tf.reshape(tf.concat(outputs, 1), [-1, RNNSize])\n",
    "logits = tf.matmul(output, weights) + biases\n",
    "probabilities = tf.nn.softmax(logits)\n",
    "# Define a cost function\n",
    "loss = legacy_seq2seq.sequence_loss_by_example(\n",
    "        [logits],\n",
    "        [tf.reshape(targets, [-1])],\n",
    "        [tf.ones([batchSize * sequenceLength])])\n",
    "cost = tf.reduce_sum(loss) / batchSize / sequenceLength\n",
    "with tf.name_scope('cost'):\n",
    "    cost = tf.reduce_sum(loss) / batchSize / sequenceLength\n",
    "finalState = lastState\n",
    "lr = tf.Variable(0.0, trainable=False)\n",
    "trainables = tf.trainable_variables()\n",
    "gradients, _ = tf.clip_by_global_norm(tf.gradients(cost, trainables), 5.0)\n",
    "# Define an optimizer whihch is AdamOptimizer in this case since it performs well\n",
    "with tf.name_scope('optimizer'):\n",
    "    optimizer = tf.train.AdamOptimizer(lr)\n",
    "# Define the train operation\n",
    "trainOperation = optimizer.apply_gradients(zip(gradients, trainables))"
   ]
  },
  {
   "cell_type": "markdown",
   "metadata": {},
   "source": [
    "#### ARGUMENTS"
   ]
  },
  {
   "cell_type": "code",
   "execution_count": 7,
   "metadata": {
    "collapsed": true
   },
   "outputs": [],
   "source": [
    "# Define certain arguments before running the session\n",
    "sampleCharCount = 1000\n",
    "primerText = u' '"
   ]
  },
  {
   "cell_type": "markdown",
   "metadata": {},
   "source": [
    "## SESSION"
   ]
  },
  {
   "cell_type": "code",
   "execution_count": 8,
   "metadata": {
    "collapsed": false
   },
   "outputs": [
    {
     "name": "stdout",
     "output_type": "stream",
     "text": [
      "INFO:tensorflow:Restoring parameters from data/model/model.ckpt-2054\n"
     ]
    }
   ],
   "source": [
    "# Define a function for picking the most likely state\n",
    "# It is used instead of just argmnax()\n",
    "def weightedPick(weights):\n",
    "    t = np.cumsum(weights)\n",
    "    s = np.sum(weights)\n",
    "    return(int(np.searchsorted(t, np.random.rand(1)*s)))\n",
    "\n",
    "# Run the session to create the text according to pre-trained model\n",
    "# And save the generated text\n",
    "with tf.Session() as sess:\n",
    "    tf.global_variables_initializer().run()\n",
    "    # Load trained model\n",
    "    saver = tf.train.Saver(tf.global_variables())\n",
    "    ckpt = tf.train.get_checkpoint_state(saveDirectory)\n",
    "    if ckpt and ckpt.model_checkpoint_path:\n",
    "        saver.restore(sess, ckpt.model_checkpoint_path)\n",
    "        state = sess.run(cell.zero_state(1, tf.float32))\n",
    "        for char in primerText[:-1]:\n",
    "            x = np.zeros((1, 1))\n",
    "            x[0, 0] = vocabMapper[char]\n",
    "            feed = {inputData: x, stateInitial: state}\n",
    "            [state] = sess.run([finalState], feed)\n",
    "\n",
    "        returnText = primerText\n",
    "        char = primerText[-1]\n",
    "        for n in range(sampleCharCount):\n",
    "            x = np.zeros((1, 1))\n",
    "            x[0, 0] = vocabMapper[char]\n",
    "            feed = {inputData: x, stateInitial: state}\n",
    "            [probabilitiesV2, state] = sess.run([probabilities, finalState], feed)\n",
    "            p = probabilitiesV2[0]\n",
    "            sample = weightedPick(p)\n",
    "            prediction = chars[sample]\n",
    "            returnText += prediction\n",
    "            char = prediction\n",
    "        \n",
    "\n",
    "    file = open(\"data/text/generated/current.txt\",\"w\") \n",
    "    file.write(str(returnText))\n",
    "    file.close() "
   ]
  },
  {
   "cell_type": "markdown",
   "metadata": {},
   "source": [
    "### End of the text generation"
   ]
  }
 ],
 "metadata": {
  "kernelspec": {
   "display_name": "Python 3",
   "language": "python",
   "name": "python3"
  },
  "language_info": {
   "codemirror_mode": {
    "name": "ipython",
    "version": 3
   },
   "file_extension": ".py",
   "mimetype": "text/x-python",
   "name": "python",
   "nbconvert_exporter": "python",
   "pygments_lexer": "ipython3",
   "version": "3.5.2"
  }
 },
 "nbformat": 4,
 "nbformat_minor": 2
}
